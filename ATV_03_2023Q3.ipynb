{
  "nbformat": 4,
  "nbformat_minor": 0,
  "metadata": {
    "colab": {
      "provenance": [],
      "include_colab_link": true
    },
    "kernelspec": {
      "name": "python3",
      "display_name": "Python 3"
    }
  },
  "cells": [
    {
      "cell_type": "markdown",
      "metadata": {
        "id": "view-in-github",
        "colab_type": "text"
      },
      "source": [
        "<a href=\"https://colab.research.google.com/github/renan-borelli/PLN---3Q2023/blob/main/ATV_03_2023Q3.ipynb\" target=\"_parent\"><img src=\"https://colab.research.google.com/assets/colab-badge.svg\" alt=\"Open In Colab\"/></a>"
      ]
    },
    {
      "cell_type": "markdown",
      "metadata": {
        "id": "Y6QILOdpOjwv"
      },
      "source": [
        "# **Processamento de Linguagem Natural [2023.Q3]**\n",
        "Prof. Alexandre Donizeti Alves"
      ]
    },
    {
      "cell_type": "markdown",
      "metadata": {
        "id": "8m67OOx9MX_3"
      },
      "source": [
        "### **ATIVIDADE PRÁTICA 03 [Tutorial sobre uma API]**\n",
        "\n",
        "---"
      ]
    },
    {
      "cell_type": "markdown",
      "metadata": {
        "id": "5Gk0nHKabBT-"
      },
      "source": [
        "A **ATIVIDADE PRÁTICA 03** deve ser feita utilizando o **Google Colab** com uma conta\n",
        "sua vinculada ao Gmail. O link do seu notebook, armazenado no Google Drive, além do link de um repositório no GitHub e os principais resultados da atividade, devem ser enviados usando o seguinte formulário:\n",
        "\n",
        "> https://forms.gle/nPsWnUuE5GCeXaiU8 (**AINDA EM CONSTRUÇÃO**)\n",
        "\n",
        "\n",
        "**IMPORTANTE**: A submissão deve ser feita APENAS POR UM INTEGRANTE DA EQUIPE até o dia 30/10 (segunda-feira - até às 23h59). Por favor, lembre-se de dar permissão de ACESSO IRRESTRITO para o professor da disciplina de PLN."
      ]
    },
    {
      "cell_type": "markdown",
      "metadata": {
        "id": "D7hJlilKM485"
      },
      "source": [
        "### **EQUIPE**\n",
        "\n",
        "---"
      ]
    },
    {
      "cell_type": "markdown",
      "source": [
        "**POR FAVOR, PREENCHER OS INTEGRANDES DA SUA EQUIPE:**\n",
        "\n",
        "\n",
        "**Integrante 01:**\n",
        "\n",
        "`Por favor, informe o seu nome completo e RA:` Renan Borelli Andrade - 11201921098\n",
        "\n",
        "**Integrante 02:**\n",
        "\n",
        "`Por favor, informe o seu nome completo e RA:` Lucas Cardoso de Carvalho - 11202021207"
      ],
      "metadata": {
        "id": "tnIArN0QY-Ek"
      }
    },
    {
      "cell_type": "markdown",
      "source": [
        "### **API**\n",
        "---"
      ],
      "metadata": {
        "id": "6yExhaebs-nD"
      }
    },
    {
      "cell_type": "markdown",
      "source": [
        "**QUAL A API SELECIONADA POR SUA EQUIPE?**\n",
        "\n",
        "`API: ` Chuck Norris Jokes API (chucknorris.io)\n",
        "\n",
        "`Site oficial: ` https://api.chucknorris.io/\n",
        "\n",
        "`Link para a documentação oficial:` https://github.com/chucknorris-io/chuck-api"
      ],
      "metadata": {
        "id": "DjJM_qhEZRy6"
      }
    },
    {
      "cell_type": "markdown",
      "metadata": {
        "id": "EtjgWQRzNphL"
      },
      "source": [
        "### **DESCRIÇÃO**\n",
        "---"
      ]
    },
    {
      "cell_type": "markdown",
      "source": [
        "Implementar um `notebook` no `Google Colab` para demonstrar passo a passo como usar uma determinada **API** em `Python`, ou seja, criar um **TUTORIAL** destacando desde a instalação e configuração da **API** até as principais finalidades. O **TUTORIAL** deve ser o mais completo possível, com diversos exemplos de uso e permitindo ser facilmente reproduzido.\n",
        "\n",
        "A **API** deve ser selecionada na seguinte planilha:\n",
        "\n",
        "https://docs.google.com/spreadsheets/d/1-Q1szJ3UmoE2_3LtcRQyqid5fPIcnpsR3XAPnoxLj2o/edit?usp=sharing\n",
        "\n",
        ">\n",
        "\n",
        "**IMPORTANTE:** É obrigatório usar o e-mail da UFABC.\n",
        "\n",
        ">\n",
        "\n",
        "**DICA:** Por favor, insira o seu nome ou da sua equipe na ordem definida na planilha. A escolha da **API** deve ser feita de acordo com a lista disponibilizada na planilha. Cada **API** só pode ser escolhida por, no **MÁXIMO**, 2 equipes."
      ],
      "metadata": {
        "id": "fXTwkiiGs2BV"
      }
    },
    {
      "cell_type": "markdown",
      "source": [
        "### **ROTEIRO PARA APRESENTAÇÃO DE UMA API**\n",
        "\n",
        "---\n",
        ">\n",
        "\n",
        "\n",
        "**IMPORTANTE**: consulta feita no ChatGPT\n",
        "\n",
        ">\n",
        "\n",
        "Como escrever um tutorial sobre uma API em Python usando o Google Colab com foco nas etapas essenciais. Aqui está um guia rápido:\n",
        "\n",
        ">\n",
        "\n",
        "* **Passo 01: Introdução**\n",
        "\n",
        "  >  Apresente a API que você está explicando.\n",
        "\n",
        "  >  Explique por que é útil ou relevante.\n",
        "\n",
        "* **Passo 02: Configuração no Google Colab**\n",
        "\n",
        "  > Explique como os leitores podem abrir um novo notebook no Google Colab.\n",
        "\n",
        "  > Mostre como importar bibliotecas necessárias.\n",
        "\n",
        "  > Instrua sobre como instalar quaisquer bibliotecas adicionais, se necessário.\n",
        "\n",
        "* **Passo 03: Autenticação (se aplicável)**\n",
        "\n",
        "  > Descreva como configurar a autenticação, caso a API exija.\n",
        "\n",
        "  > Forneça orientações sobre a obtenção de chaves de API ou tokens.\n",
        "\n",
        "* **Passo 04: Utilização Básica da API**\n",
        "\n",
        "  > Demonstre como fazer uma solicitação simples à API.\n",
        "\n",
        "  > Mostre como processar a resposta da API.\n",
        "\n",
        "* **Passo 05: Exemplos Práticos**\n",
        "\n",
        "  > Forneça exemplos práticos e úteis que os leitores podem seguir.\n",
        "\n",
        "  > Mostre como aplicar a API em cenários do mundo real.\n",
        "\n",
        "\n",
        "* **Passo 06: Considerações**\n",
        "\n",
        "  > Recapitule os principais pontos do tutorial.\n",
        "\n",
        "  > Incentive os leitores a explorar mais a API e experimentar por conta própria.\n",
        "\n",
        "* **Passo 07: Publicação**\n",
        "\n",
        "   > Considere compartilhar seu tutorial em plataformas como Medium, GitHub (obrigatório) ou seu blog pessoal.\n",
        "\n",
        "* **Passo 08: Promoção**\n",
        "\n",
        "  > Compartilhe seu tutorial nas redes sociais, grupos de desenvolvedores e fóruns relevantes.\n",
        "\n",
        "**IMPORTANTE**: Lembre-se de manter o tutorial curto e direto ao ponto. Use exemplos de código eficazes e forneça informações práticas que os leitores possam seguir facilmente. O Google Colab é uma ótima plataforma para compartilhar tutoriais, pois permite que os leitores executem o código diretamente no navegador.\n"
      ],
      "metadata": {
        "id": "wbICIIGcYPNf"
      }
    },
    {
      "cell_type": "markdown",
      "source": [
        "### **CRITÉRIOS DE AVALIAÇÃO**\n",
        "---\n"
      ],
      "metadata": {
        "id": "gWsBYQNtxmum"
      }
    },
    {
      "cell_type": "markdown",
      "source": [
        "As 3 equipes que **criarem os melhores tutoriais**  terão o peso diminuido na AVALIAÇÃO (Prova Escrita) em **25%** (caindo de 40 para 30).\n",
        "\n",
        "**IMPORTANTE**: a diminuição no peso da AVALIAÇÃO será aplicado para todos os membros da equipe.\n",
        "\n",
        "\n",
        "\n"
      ],
      "metadata": {
        "id": "5iHdx4BXYruQ"
      }
    },
    {
      "cell_type": "markdown",
      "source": [
        "### **TUTORIAL**\n",
        "---"
      ],
      "metadata": {
        "id": "nw09lujGvfjc"
      }
    },
    {
      "cell_type": "markdown",
      "source": [
        "CHUCK NORRIS JOKES API"
      ],
      "metadata": {
        "id": "5q9zcrJj0n4H"
      }
    },
    {
      "cell_type": "markdown",
      "source": [
        "**SUGESTÃO**: Usar o **ROTEIRO** para apresentação de uma **API**"
      ],
      "metadata": {
        "id": "AD7LiZNAaMzv"
      }
    },
    {
      "cell_type": "markdown",
      "source": [
        "#### **INTRODUÇÃO**"
      ],
      "metadata": {
        "id": "ZM2EJhRIaaa2"
      }
    },
    {
      "cell_type": "markdown",
      "source": [
        "**Descrição da API**"
      ],
      "metadata": {
        "id": "FjG5RIW5bMfd"
      }
    },
    {
      "cell_type": "markdown",
      "source": [
        "A API chucknorris.io oferece gratuitamente uma coleção de fatos curados à mão sobre Chuck Norris em formato JSON. Esses \"fatos\" são afirmações satíricas e exageradas sobre a força, atitude e habilidades de Chuck Norris, que se tornaram um fenômeno na internet e influenciaram a cultura popular. Essas anedotas se espalharam pelo mundo, resultando em versões traduzidas e adaptações locais que fazem referência a propagandas específicas de cada país, além de outros fenômenos da internet. Algumas piadas também abordam sua habilidade de executar chutes circulares para realizar praticamente qualquer tarefa, sua abundância de pelos no corpo, especialmente na barba, e seu papel na série de televisão de ação \"Walker, Texas Ranger\". Com ela, há a possibilidade de obter afirmações do personagem a partir de requisições aleatórias, por categoria ou a partir de um texto livre. Além disso, é possível estabelecer conexões com as aplicações de mensagens \"Slack\" e \"Facebook Messenger\".\n",
        "\n",
        "\n",
        "\n"
      ],
      "metadata": {
        "id": "7kndSzDVbQkd"
      }
    },
    {
      "cell_type": "markdown",
      "source": [
        "#### **CONFIGURAÇÃO**"
      ],
      "metadata": {
        "id": "5DIH_lmdaqrh"
      }
    },
    {
      "cell_type": "code",
      "source": [
        "# PARA CONSEGUIR UTILIZAR A API SERÁ APENAS NECESSÁRIO INSTALAR A BIBLIOTECA \"requests\"\n",
        "!pip install requests\n",
        "!pip install deep_translator\n",
        "!pip install nltk\n"
      ],
      "metadata": {
        "id": "oqM3mRBsbBYZ",
        "colab": {
          "base_uri": "https://localhost:8080/"
        },
        "outputId": "41a79ad4-ebef-45f7-e47e-0bfa7324605e"
      },
      "execution_count": null,
      "outputs": [
        {
          "output_type": "stream",
          "name": "stdout",
          "text": [
            "Requirement already satisfied: requests in /usr/local/lib/python3.10/dist-packages (2.31.0)\n",
            "Requirement already satisfied: charset-normalizer<4,>=2 in /usr/local/lib/python3.10/dist-packages (from requests) (3.3.1)\n",
            "Requirement already satisfied: idna<4,>=2.5 in /usr/local/lib/python3.10/dist-packages (from requests) (3.4)\n",
            "Requirement already satisfied: urllib3<3,>=1.21.1 in /usr/local/lib/python3.10/dist-packages (from requests) (2.0.7)\n",
            "Requirement already satisfied: certifi>=2017.4.17 in /usr/local/lib/python3.10/dist-packages (from requests) (2023.7.22)\n",
            "Collecting deep_translator\n",
            "  Downloading deep_translator-1.11.4-py3-none-any.whl (42 kB)\n",
            "\u001b[2K     \u001b[90m━━━━━━━━━━━━━━━━━━━━━━━━━━━━━━━━━━━━━━━━\u001b[0m \u001b[32m42.3/42.3 kB\u001b[0m \u001b[31m1.6 MB/s\u001b[0m eta \u001b[36m0:00:00\u001b[0m\n",
            "\u001b[?25hRequirement already satisfied: beautifulsoup4<5.0.0,>=4.9.1 in /usr/local/lib/python3.10/dist-packages (from deep_translator) (4.11.2)\n",
            "Requirement already satisfied: requests<3.0.0,>=2.23.0 in /usr/local/lib/python3.10/dist-packages (from deep_translator) (2.31.0)\n",
            "Requirement already satisfied: soupsieve>1.2 in /usr/local/lib/python3.10/dist-packages (from beautifulsoup4<5.0.0,>=4.9.1->deep_translator) (2.5)\n",
            "Requirement already satisfied: charset-normalizer<4,>=2 in /usr/local/lib/python3.10/dist-packages (from requests<3.0.0,>=2.23.0->deep_translator) (3.3.1)\n",
            "Requirement already satisfied: idna<4,>=2.5 in /usr/local/lib/python3.10/dist-packages (from requests<3.0.0,>=2.23.0->deep_translator) (3.4)\n",
            "Requirement already satisfied: urllib3<3,>=1.21.1 in /usr/local/lib/python3.10/dist-packages (from requests<3.0.0,>=2.23.0->deep_translator) (2.0.7)\n",
            "Requirement already satisfied: certifi>=2017.4.17 in /usr/local/lib/python3.10/dist-packages (from requests<3.0.0,>=2.23.0->deep_translator) (2023.7.22)\n",
            "Installing collected packages: deep_translator\n",
            "Successfully installed deep_translator-1.11.4\n",
            "Requirement already satisfied: nltk in /usr/local/lib/python3.10/dist-packages (3.8.1)\n",
            "Requirement already satisfied: click in /usr/local/lib/python3.10/dist-packages (from nltk) (8.1.7)\n",
            "Requirement already satisfied: joblib in /usr/local/lib/python3.10/dist-packages (from nltk) (1.3.2)\n",
            "Requirement already satisfied: regex>=2021.8.3 in /usr/local/lib/python3.10/dist-packages (from nltk) (2023.6.3)\n",
            "Requirement already satisfied: tqdm in /usr/local/lib/python3.10/dist-packages (from nltk) (4.66.1)\n"
          ]
        }
      ]
    },
    {
      "cell_type": "markdown",
      "source": [
        "#### **AUTENTICAÇÃO (SE APLICÁVEL)**"
      ],
      "metadata": {
        "id": "SwZgsj4narLo"
      }
    },
    {
      "cell_type": "code",
      "source": [
        "# NÃO É NECESSÁRIO AUTENTICAÇÃO PARA O USO DA API\n"
      ],
      "metadata": {
        "id": "uzdu2MfwbA1R"
      },
      "execution_count": null,
      "outputs": []
    },
    {
      "cell_type": "markdown",
      "source": [
        "#### **UTILIZAÇÃO BÁSICA**"
      ],
      "metadata": {
        "id": "ZjXBfNHwarfV"
      }
    },
    {
      "cell_type": "code",
      "source": [
        "# IMPORTAÇÃO DAS BIBLIOTECAS\n",
        "import requests\n",
        "import random\n"
      ],
      "metadata": {
        "id": "bNqB40PlbAWx"
      },
      "execution_count": null,
      "outputs": []
    },
    {
      "cell_type": "code",
      "source": [
        "# CONFIGURAÇÃO DAS FUNÇÕES PARA A UTILIZAÇÃO DAS POSSÍVEIS REQUISIÇÕES NA API\n",
        "def get_random_joke():\n",
        "    \"\"\"\n",
        "    Obtém uma piada aleatória sobre Chuck Norris da API.\n",
        "    Retorna: Um dicionário/response (json) contendo a piada.\n",
        "    \"\"\"\n",
        "    url = \"https://api.chucknorris.io/jokes/random\"\n",
        "    response = requests.get(url)\n",
        "    return response.json()\n",
        "\n",
        "def get_joke_categories():\n",
        "    \"\"\"\n",
        "    Obtém a lista de categorias disponíveis para piadas sobre Chuck Norris da API.\n",
        "    Retorna: Uma lista de strings (json) contendo as categorias.\n",
        "    \"\"\"\n",
        "    url = \"https://api.chucknorris.io/jokes/categories\"\n",
        "    response = requests.get(url)\n",
        "    return response.json()\n",
        "\n",
        "def get_random_category_joke(category):\n",
        "    \"\"\"\n",
        "    Obtém uma piada aleatória de uma categoria específica sobre Chuck Norris da API.\n",
        "    Parâmetros:\n",
        "    - category: A categoria desejada (string).\n",
        "    Retorna: Um dicionário/response (json) contendo a piada.\n",
        "    \"\"\"\n",
        "    url = f\"https://api.chucknorris.io/jokes/random?category={category}\"\n",
        "    response = requests.get(url)\n",
        "    return response.json()\n",
        "\n",
        "def search_jokes(query):\n",
        "    \"\"\"\n",
        "    Busca piadas sobre Chuck Norris que correspondam a um termo de busca específico na API.\n",
        "    Parâmetros:\n",
        "    - query: O termo de busca desejado (string).\n",
        "    Retorna: Um dicionário/response (json) contendo os resultados da busca.\n",
        "    \"\"\"\n",
        "    url = f\"https://api.chucknorris.io/jokes/search?query={query}\"\n",
        "    response = requests.get(url)\n",
        "    return response.json()\n",
        "\n",
        "while True:\n",
        "  option = input(\"Escolha qual opção deseja utilizar: \\n1 - Piada Aleatória\\n2 - Mostra categorias de piadas\\n3 - Piada por Categoria\\n4 - Piada por Palavra Específica\\n0 - Encerrar aplicação...\\n\").strip()\n",
        "  if option == \"0\":\n",
        "    print(\"Encerrando...\")\n",
        "    break\n",
        "  elif option == \"1\":\n",
        "    response = get_random_joke()\n",
        "  elif option == \"2\":\n",
        "    response = get_joke_categories()\n",
        "  elif option == \"3\":\n",
        "    try:\n",
        "      category = input(\"Qual a categoria da piada que deseja procurar: \")\n",
        "      response = get_random_category_joke(category)\n",
        "    except Exception as e:\n",
        "      print(\"Erro na requisição: \", e)\n",
        "  elif option == \"4\":\n",
        "    try:\n",
        "      word = input(\"Qual a termo incluso na piada deseja procurar: \")\n",
        "      response = search_jokes(word)\n",
        "    except Exception as e:\n",
        "      print(\"Erro na requisição: \", e)\n",
        "  else:\n",
        "    print(\"Categoria escolhida não encontrada. Encerrando...\")\n",
        "    break\n",
        "\n",
        "  if type(response).__name__ == \"dict\":\n",
        "    try:\n",
        "      print(response[\"value\"], \"\\n\")\n",
        "    except:\n",
        "      total_of_results = int(response[\"total\"])-1\n",
        "      index = random.randint(0, total_of_results)\n",
        "      print(response[\"result\"][index][\"value\"], \"\\n\")\n",
        "  else:\n",
        "    print(response, \"\\n\")"
      ],
      "metadata": {
        "colab": {
          "base_uri": "https://localhost:8080/"
        },
        "id": "FkOlav4bATtr",
        "outputId": "11821569-d32a-491e-e6e8-31d7afefcb48"
      },
      "execution_count": null,
      "outputs": [
        {
          "output_type": "stream",
          "name": "stdout",
          "text": [
            "Escolha qual opção deseja utilizar: \n",
            "1 - Piada Aleatória\n",
            "2 - Mostra categorias de piadas\n",
            "3 - Piada por Categoria\n",
            "4 - Piada por Palavra Específica\n",
            "0 - Encerrar aplicação...\n",
            "4\n",
            "Qual a termo incluso na piada deseja procurar: car\n",
            "If there was a game about Chuck Norris you'd be scared to play it because every time you'd open it up it would roundhouse kick you in the balls. \n",
            "\n",
            "Escolha qual opção deseja utilizar: \n",
            "1 - Piada Aleatória\n",
            "2 - Mostra categorias de piadas\n",
            "3 - Piada por Categoria\n",
            "4 - Piada por Palavra Específica\n",
            "0 - Encerrar aplicação...\n",
            "0\n",
            "Encerrando...\n"
          ]
        }
      ]
    },
    {
      "cell_type": "markdown",
      "source": [
        "#### **EXEMPLOS PRÁTICOS**"
      ],
      "metadata": {
        "id": "marqph_raryN"
      }
    },
    {
      "cell_type": "code",
      "source": [
        "# PODEMOS UTILIZAR ESSAS PIADAS LINKADAS EM DIVERSAS APLICAÇÕES COMO\n",
        "# 1. PIADAS TRADUZIDAS:\n",
        "from deep_translator import GoogleTranslator\n",
        "\n",
        "to_translate = get_random_joke()[\"value\"]\n",
        "languages_suported = GoogleTranslator().get_supported_languages(as_dict=True)\n",
        "print(\"Escolha uma das possíveis opções de linguagem: \\n\", languages_suported)\n",
        "language = input()\n",
        "translated = GoogleTranslator(source='english', target=language).translate(to_translate)\n",
        "print(translated, \"\\n\")\n",
        "\n",
        "# 2. RELACIONAR UM TEXTO DO USUÁRIO A UMA PIADA DO CHUCK NORRIS\n",
        "import nltk\n",
        "from nltk.tokenize import word_tokenize\n",
        "from nltk.corpus import stopwords\n",
        "from collections import Counter\n",
        "from deep_translator import GoogleTranslator\n",
        "\n",
        "def order_by_relevance(tokens):\n",
        "    # Conta a frequência de cada token\n",
        "    contagem_tokens = Counter(tokens)\n",
        "\n",
        "    # Ordena os tokens por frequência (do mais frequente para o menos frequente)\n",
        "    tokens_ordenados = sorted(contagem_tokens, key=contagem_tokens.get, reverse=True)\n",
        "\n",
        "    return tokens_ordenados\n",
        "\n",
        "nltk.download('punkt')\n",
        "nltk.download('stopwords')\n",
        "\n",
        "def tokenize_without_stopwords(text):\n",
        "    # Tokeniza o texto\n",
        "    tokens = word_tokenize(text, language='portuguese')\n",
        "\n",
        "    # Obtém as palavras que não são stopwords\n",
        "    stop_words = set(stopwords.words('portuguese'))\n",
        "    tokens = [word for word in tokens if word.lower() not in stop_words and word.isalpha()]\n",
        "\n",
        "    return tokens\n",
        "\n",
        "# Texto do usuário\n",
        "text = input(\"Digite um texto que retornaremos uma piada do chuck que se relaciona minimamente com ele: \")\n",
        "\n",
        "tokens = tokenize_without_stopwords(text)\n",
        "\n",
        "tokens_ordered = order_by_relevance(tokens)\n",
        "\n",
        "# Escolhe um termo do texto (A PARTIR O TOKEN MAIS RELEVANTE)\n",
        "most_related_word = tokens_ordered[0]\n",
        "translated = GoogleTranslator(source='portuguese', target='english').translate(most_related_word)\n",
        "\n",
        "try:\n",
        "  response = search_jokes(translated)\n",
        "  total_of_results = int(response[\"total\"])-1\n",
        "  index = random.randint(0, total_of_results)\n",
        "  to_translate = response[\"result\"][index][\"value\"]\n",
        "  translated = GoogleTranslator(source='english', target='portuguese').translate(to_translate)\n",
        "  print(translated, \"\\n\")\n",
        "except:\n",
        "  print(\"Infelizmente não há piadas relacionadas a essa frase...\")\n"
      ],
      "metadata": {
        "id": "aL49vegTa_4e",
        "colab": {
          "base_uri": "https://localhost:8080/"
        },
        "outputId": "57b6b54e-a738-402a-a968-5bc5eea65e15"
      },
      "execution_count": null,
      "outputs": [
        {
          "output_type": "stream",
          "name": "stdout",
          "text": [
            "Escolha uma das possíveis opções de linguagem: \n",
            " {'afrikaans': 'af', 'albanian': 'sq', 'amharic': 'am', 'arabic': 'ar', 'armenian': 'hy', 'assamese': 'as', 'aymara': 'ay', 'azerbaijani': 'az', 'bambara': 'bm', 'basque': 'eu', 'belarusian': 'be', 'bengali': 'bn', 'bhojpuri': 'bho', 'bosnian': 'bs', 'bulgarian': 'bg', 'catalan': 'ca', 'cebuano': 'ceb', 'chichewa': 'ny', 'chinese (simplified)': 'zh-CN', 'chinese (traditional)': 'zh-TW', 'corsican': 'co', 'croatian': 'hr', 'czech': 'cs', 'danish': 'da', 'dhivehi': 'dv', 'dogri': 'doi', 'dutch': 'nl', 'english': 'en', 'esperanto': 'eo', 'estonian': 'et', 'ewe': 'ee', 'filipino': 'tl', 'finnish': 'fi', 'french': 'fr', 'frisian': 'fy', 'galician': 'gl', 'georgian': 'ka', 'german': 'de', 'greek': 'el', 'guarani': 'gn', 'gujarati': 'gu', 'haitian creole': 'ht', 'hausa': 'ha', 'hawaiian': 'haw', 'hebrew': 'iw', 'hindi': 'hi', 'hmong': 'hmn', 'hungarian': 'hu', 'icelandic': 'is', 'igbo': 'ig', 'ilocano': 'ilo', 'indonesian': 'id', 'irish': 'ga', 'italian': 'it', 'japanese': 'ja', 'javanese': 'jw', 'kannada': 'kn', 'kazakh': 'kk', 'khmer': 'km', 'kinyarwanda': 'rw', 'konkani': 'gom', 'korean': 'ko', 'krio': 'kri', 'kurdish (kurmanji)': 'ku', 'kurdish (sorani)': 'ckb', 'kyrgyz': 'ky', 'lao': 'lo', 'latin': 'la', 'latvian': 'lv', 'lingala': 'ln', 'lithuanian': 'lt', 'luganda': 'lg', 'luxembourgish': 'lb', 'macedonian': 'mk', 'maithili': 'mai', 'malagasy': 'mg', 'malay': 'ms', 'malayalam': 'ml', 'maltese': 'mt', 'maori': 'mi', 'marathi': 'mr', 'meiteilon (manipuri)': 'mni-Mtei', 'mizo': 'lus', 'mongolian': 'mn', 'myanmar': 'my', 'nepali': 'ne', 'norwegian': 'no', 'odia (oriya)': 'or', 'oromo': 'om', 'pashto': 'ps', 'persian': 'fa', 'polish': 'pl', 'portuguese': 'pt', 'punjabi': 'pa', 'quechua': 'qu', 'romanian': 'ro', 'russian': 'ru', 'samoan': 'sm', 'sanskrit': 'sa', 'scots gaelic': 'gd', 'sepedi': 'nso', 'serbian': 'sr', 'sesotho': 'st', 'shona': 'sn', 'sindhi': 'sd', 'sinhala': 'si', 'slovak': 'sk', 'slovenian': 'sl', 'somali': 'so', 'spanish': 'es', 'sundanese': 'su', 'swahili': 'sw', 'swedish': 'sv', 'tajik': 'tg', 'tamil': 'ta', 'tatar': 'tt', 'telugu': 'te', 'thai': 'th', 'tigrinya': 'ti', 'tsonga': 'ts', 'turkish': 'tr', 'turkmen': 'tk', 'twi': 'ak', 'ukrainian': 'uk', 'urdu': 'ur', 'uyghur': 'ug', 'uzbek': 'uz', 'vietnamese': 'vi', 'welsh': 'cy', 'xhosa': 'xh', 'yiddish': 'yi', 'yoruba': 'yo', 'zulu': 'zu'}\n",
            "portuguese\n",
            "Sabe-se que um chute circular de Chuck Norris nas nádegas causa um abscesso infectado e cheio de pus amarelo no tecido hemorroidário. \n",
            "\n"
          ]
        },
        {
          "output_type": "stream",
          "name": "stderr",
          "text": [
            "[nltk_data] Downloading package punkt to /root/nltk_data...\n",
            "[nltk_data]   Unzipping tokenizers/punkt.zip.\n",
            "[nltk_data] Downloading package stopwords to /root/nltk_data...\n",
            "[nltk_data]   Unzipping corpora/stopwords.zip.\n"
          ]
        },
        {
          "output_type": "stream",
          "name": "stdout",
          "text": [
            "Digite um texto que retornaremos uma piada do chuck que se relaciona minimamente com ele: carro\n",
            "Não importa o quão viril e hetero você afirme ser, se você receber uma foto nua de Chuck Norris, você morrerá de síndrome do túnel do carpo em 4 horas. \n",
            "\n"
          ]
        }
      ]
    },
    {
      "cell_type": "markdown",
      "source": [
        "#### **CONSIDERAÇÕES**"
      ],
      "metadata": {
        "id": "xIP2DoACa7of"
      }
    },
    {
      "cell_type": "markdown",
      "source": [
        "Com uma vasta gama de possibilidades, essa API nos permite implementar piadas do Chuck Norris em quaisquer aplicações que desejarmos. Ao linká-la com outras APIs ou pacotes do python, se torna possível adicionar o humor ácido e a implacabilidade do Chuck Norris onde quer que seja!"
      ],
      "metadata": {
        "id": "dCRN197XbcQH"
      }
    },
    {
      "cell_type": "markdown",
      "source": [
        "**REFERÊNCIAS**\n",
        "\n",
        "---\n",
        "\n"
      ],
      "metadata": {
        "id": "DJa20CJRpQ7t"
      }
    },
    {
      "cell_type": "markdown",
      "source": [
        "Referência 1: https://api.chucknorris.io/#\n",
        "\n",
        "Referência 2: https://www.youtube.com/watch?v=NX3scGBH04k\n",
        "\n",
        "Referência 3: https://medium.com/@jacopocastellano/chuck-norris-comes-to-ms-teams-a-joke-generator-script-a98e03146818"
      ],
      "metadata": {
        "id": "GxpuIOR3pUWr"
      }
    }
  ]
}